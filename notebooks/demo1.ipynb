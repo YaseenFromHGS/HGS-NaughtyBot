{
 "cells": [
  {
   "cell_type": "markdown",
   "metadata": {},
   "source": [
    "# HGS-NaughtyBot Demo\n",
    "This notebook demonstrates the chatbot and data loading functionality."
   ]
  },
  {
   "cell_type": "code",
   "execution_count": null,
   "metadata": {},
   "outputs": [],
   "source": [
    "from naughtybot.chatbot import run_bot\n",
    "from naughtybot.utils import load_training_resource\n",
    "\n",
    "run_bot()\n",
    "load_training_resource('data/test3.pdf')"
   ]
  }
 ],
 "metadata": {},
 "nbformat": 4,
 "nbformat_minor": 2
}